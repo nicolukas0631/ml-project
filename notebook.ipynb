{
 "cells": [
  {
   "cell_type": "markdown",
   "metadata": {},
   "source": [
    "# Proyecto de modelo predictivo para la empresa OilyGiant "
   ]
  },
  {
   "cell_type": "markdown",
   "metadata": {},
   "source": [
    "## Introducción"
   ]
  },
  {
   "cell_type": "markdown",
   "metadata": {},
   "source": [
    "OilyGiant, una empresa petrolífera esta buscando la mejor región para abrir sus nuevos pozos de extracción de petróleo, para esto esta buscando un modelo predictivo que les indique cual es la región con un beneficio mayor y un porcentaje de perdida mínimo. Para esto tenemos los datos de tres diferentes regiones, donde está el volumen de reservas por pozo y características relevantes para el modelo predictivo."
   ]
  },
  {
   "cell_type": "markdown",
   "metadata": {},
   "source": [
    "### Objetivos"
   ]
  },
  {
   "cell_type": "markdown",
   "metadata": {},
   "source": [
    "1. Recolección de los parametros y objetivos de las diferentes regiones.\n",
    "2. Construcción del modelo para predecir el volumen de reservas de petróleo en los nuevos pozos.\n",
    "3. Selección de la región con los pozos con los valores estimados más altos.\n",
    "4. Selección de la región con mayor beneficio y menor porcentaje de perdida."
   ]
  },
  {
   "cell_type": "markdown",
   "metadata": {},
   "source": [
    "## Importación de las Librerías"
   ]
  },
  {
   "cell_type": "code",
   "execution_count": 29,
   "metadata": {},
   "outputs": [],
   "source": [
    "import pandas as pd\n",
    "from sklearn.linear_model import LinearRegression\n",
    "from sklearn.model_selection import train_test_split\n",
    "from sklearn.metrics import mean_squared_error, accuracy_score, r2_score\n",
    "from sklearn.preprocessing import StandardScaler\n",
    "import matplotlib.pyplot as plt\n",
    "import numpy as np"
   ]
  },
  {
   "cell_type": "markdown",
   "metadata": {},
   "source": [
    "## Lectura y visualización de los Datasets"
   ]
  },
  {
   "cell_type": "code",
   "execution_count": 2,
   "metadata": {},
   "outputs": [
    {
     "name": "stdout",
     "output_type": "stream",
     "text": [
      "\n",
      "Dataset Región 1\n"
     ]
    },
    {
     "data": {
      "text/html": [
       "<div>\n",
       "<style scoped>\n",
       "    .dataframe tbody tr th:only-of-type {\n",
       "        vertical-align: middle;\n",
       "    }\n",
       "\n",
       "    .dataframe tbody tr th {\n",
       "        vertical-align: top;\n",
       "    }\n",
       "\n",
       "    .dataframe thead th {\n",
       "        text-align: right;\n",
       "    }\n",
       "</style>\n",
       "<table border=\"1\" class=\"dataframe\">\n",
       "  <thead>\n",
       "    <tr style=\"text-align: right;\">\n",
       "      <th></th>\n",
       "      <th>id</th>\n",
       "      <th>f0</th>\n",
       "      <th>f1</th>\n",
       "      <th>f2</th>\n",
       "      <th>product</th>\n",
       "    </tr>\n",
       "  </thead>\n",
       "  <tbody>\n",
       "    <tr>\n",
       "      <th>21439</th>\n",
       "      <td>idHAJ</td>\n",
       "      <td>-0.634313</td>\n",
       "      <td>0.880227</td>\n",
       "      <td>1.381367</td>\n",
       "      <td>120.306615</td>\n",
       "    </tr>\n",
       "    <tr>\n",
       "      <th>44503</th>\n",
       "      <td>ss7p7</td>\n",
       "      <td>0.026471</td>\n",
       "      <td>0.504907</td>\n",
       "      <td>7.120899</td>\n",
       "      <td>161.396967</td>\n",
       "    </tr>\n",
       "    <tr>\n",
       "      <th>58968</th>\n",
       "      <td>9wRLo</td>\n",
       "      <td>0.308033</td>\n",
       "      <td>0.859482</td>\n",
       "      <td>-0.740016</td>\n",
       "      <td>130.422551</td>\n",
       "    </tr>\n",
       "    <tr>\n",
       "      <th>22011</th>\n",
       "      <td>Gd8MX</td>\n",
       "      <td>-0.754177</td>\n",
       "      <td>0.513515</td>\n",
       "      <td>2.468752</td>\n",
       "      <td>90.042096</td>\n",
       "    </tr>\n",
       "    <tr>\n",
       "      <th>72772</th>\n",
       "      <td>Tp6Lg</td>\n",
       "      <td>0.663726</td>\n",
       "      <td>-0.345597</td>\n",
       "      <td>0.870604</td>\n",
       "      <td>137.059639</td>\n",
       "    </tr>\n",
       "  </tbody>\n",
       "</table>\n",
       "</div>"
      ],
      "text/plain": [
       "          id        f0        f1        f2     product\n",
       "21439  idHAJ -0.634313  0.880227  1.381367  120.306615\n",
       "44503  ss7p7  0.026471  0.504907  7.120899  161.396967\n",
       "58968  9wRLo  0.308033  0.859482 -0.740016  130.422551\n",
       "22011  Gd8MX -0.754177  0.513515  2.468752   90.042096\n",
       "72772  Tp6Lg  0.663726 -0.345597  0.870604  137.059639"
      ]
     },
     "metadata": {},
     "output_type": "display_data"
    },
    {
     "name": "stdout",
     "output_type": "stream",
     "text": [
      "<class 'pandas.core.frame.DataFrame'>\n",
      "RangeIndex: 100000 entries, 0 to 99999\n",
      "Data columns (total 5 columns):\n",
      " #   Column   Non-Null Count   Dtype  \n",
      "---  ------   --------------   -----  \n",
      " 0   id       100000 non-null  object \n",
      " 1   f0       100000 non-null  float64\n",
      " 2   f1       100000 non-null  float64\n",
      " 3   f2       100000 non-null  float64\n",
      " 4   product  100000 non-null  float64\n",
      "dtypes: float64(4), object(1)\n",
      "memory usage: 3.8+ MB\n",
      "None\n",
      "\n",
      "Dataset Región 2\n"
     ]
    },
    {
     "data": {
      "text/html": [
       "<div>\n",
       "<style scoped>\n",
       "    .dataframe tbody tr th:only-of-type {\n",
       "        vertical-align: middle;\n",
       "    }\n",
       "\n",
       "    .dataframe tbody tr th {\n",
       "        vertical-align: top;\n",
       "    }\n",
       "\n",
       "    .dataframe thead th {\n",
       "        text-align: right;\n",
       "    }\n",
       "</style>\n",
       "<table border=\"1\" class=\"dataframe\">\n",
       "  <thead>\n",
       "    <tr style=\"text-align: right;\">\n",
       "      <th></th>\n",
       "      <th>id</th>\n",
       "      <th>f0</th>\n",
       "      <th>f1</th>\n",
       "      <th>f2</th>\n",
       "      <th>product</th>\n",
       "    </tr>\n",
       "  </thead>\n",
       "  <tbody>\n",
       "    <tr>\n",
       "      <th>28337</th>\n",
       "      <td>SAre6</td>\n",
       "      <td>8.654045</td>\n",
       "      <td>-6.639621</td>\n",
       "      <td>5.003283</td>\n",
       "      <td>134.766305</td>\n",
       "    </tr>\n",
       "    <tr>\n",
       "      <th>65161</th>\n",
       "      <td>Y5kc5</td>\n",
       "      <td>-3.865472</td>\n",
       "      <td>-0.464253</td>\n",
       "      <td>5.000527</td>\n",
       "      <td>137.945408</td>\n",
       "    </tr>\n",
       "    <tr>\n",
       "      <th>65560</th>\n",
       "      <td>g9zHd</td>\n",
       "      <td>6.007931</td>\n",
       "      <td>-4.150667</td>\n",
       "      <td>4.012197</td>\n",
       "      <td>107.813044</td>\n",
       "    </tr>\n",
       "    <tr>\n",
       "      <th>276</th>\n",
       "      <td>Q3qKs</td>\n",
       "      <td>3.088185</td>\n",
       "      <td>-12.402248</td>\n",
       "      <td>3.004042</td>\n",
       "      <td>84.038886</td>\n",
       "    </tr>\n",
       "    <tr>\n",
       "      <th>96465</th>\n",
       "      <td>CIQUB</td>\n",
       "      <td>2.422227</td>\n",
       "      <td>-4.044062</td>\n",
       "      <td>-0.003719</td>\n",
       "      <td>0.000000</td>\n",
       "    </tr>\n",
       "  </tbody>\n",
       "</table>\n",
       "</div>"
      ],
      "text/plain": [
       "          id        f0         f1        f2     product\n",
       "28337  SAre6  8.654045  -6.639621  5.003283  134.766305\n",
       "65161  Y5kc5 -3.865472  -0.464253  5.000527  137.945408\n",
       "65560  g9zHd  6.007931  -4.150667  4.012197  107.813044\n",
       "276    Q3qKs  3.088185 -12.402248  3.004042   84.038886\n",
       "96465  CIQUB  2.422227  -4.044062 -0.003719    0.000000"
      ]
     },
     "metadata": {},
     "output_type": "display_data"
    },
    {
     "name": "stdout",
     "output_type": "stream",
     "text": [
      "<class 'pandas.core.frame.DataFrame'>\n",
      "RangeIndex: 100000 entries, 0 to 99999\n",
      "Data columns (total 5 columns):\n",
      " #   Column   Non-Null Count   Dtype  \n",
      "---  ------   --------------   -----  \n",
      " 0   id       100000 non-null  object \n",
      " 1   f0       100000 non-null  float64\n",
      " 2   f1       100000 non-null  float64\n",
      " 3   f2       100000 non-null  float64\n",
      " 4   product  100000 non-null  float64\n",
      "dtypes: float64(4), object(1)\n",
      "memory usage: 3.8+ MB\n",
      "None\n",
      "\n",
      "Dataset Región 3\n"
     ]
    },
    {
     "data": {
      "text/html": [
       "<div>\n",
       "<style scoped>\n",
       "    .dataframe tbody tr th:only-of-type {\n",
       "        vertical-align: middle;\n",
       "    }\n",
       "\n",
       "    .dataframe tbody tr th {\n",
       "        vertical-align: top;\n",
       "    }\n",
       "\n",
       "    .dataframe thead th {\n",
       "        text-align: right;\n",
       "    }\n",
       "</style>\n",
       "<table border=\"1\" class=\"dataframe\">\n",
       "  <thead>\n",
       "    <tr style=\"text-align: right;\">\n",
       "      <th></th>\n",
       "      <th>id</th>\n",
       "      <th>f0</th>\n",
       "      <th>f1</th>\n",
       "      <th>f2</th>\n",
       "      <th>product</th>\n",
       "    </tr>\n",
       "  </thead>\n",
       "  <tbody>\n",
       "    <tr>\n",
       "      <th>44838</th>\n",
       "      <td>Zl20b</td>\n",
       "      <td>-0.801150</td>\n",
       "      <td>0.498775</td>\n",
       "      <td>3.590000</td>\n",
       "      <td>141.669644</td>\n",
       "    </tr>\n",
       "    <tr>\n",
       "      <th>17217</th>\n",
       "      <td>Cbj0m</td>\n",
       "      <td>0.666576</td>\n",
       "      <td>0.468253</td>\n",
       "      <td>3.647710</td>\n",
       "      <td>53.525970</td>\n",
       "    </tr>\n",
       "    <tr>\n",
       "      <th>74528</th>\n",
       "      <td>2hgts</td>\n",
       "      <td>1.584235</td>\n",
       "      <td>-0.370150</td>\n",
       "      <td>1.648771</td>\n",
       "      <td>159.197112</td>\n",
       "    </tr>\n",
       "    <tr>\n",
       "      <th>66362</th>\n",
       "      <td>NgQfR</td>\n",
       "      <td>0.951005</td>\n",
       "      <td>-1.586403</td>\n",
       "      <td>1.213276</td>\n",
       "      <td>30.641548</td>\n",
       "    </tr>\n",
       "    <tr>\n",
       "      <th>57657</th>\n",
       "      <td>rSKlP</td>\n",
       "      <td>0.070114</td>\n",
       "      <td>0.936759</td>\n",
       "      <td>0.474022</td>\n",
       "      <td>98.285609</td>\n",
       "    </tr>\n",
       "  </tbody>\n",
       "</table>\n",
       "</div>"
      ],
      "text/plain": [
       "          id        f0        f1        f2     product\n",
       "44838  Zl20b -0.801150  0.498775  3.590000  141.669644\n",
       "17217  Cbj0m  0.666576  0.468253  3.647710   53.525970\n",
       "74528  2hgts  1.584235 -0.370150  1.648771  159.197112\n",
       "66362  NgQfR  0.951005 -1.586403  1.213276   30.641548\n",
       "57657  rSKlP  0.070114  0.936759  0.474022   98.285609"
      ]
     },
     "metadata": {},
     "output_type": "display_data"
    },
    {
     "name": "stdout",
     "output_type": "stream",
     "text": [
      "<class 'pandas.core.frame.DataFrame'>\n",
      "RangeIndex: 100000 entries, 0 to 99999\n",
      "Data columns (total 5 columns):\n",
      " #   Column   Non-Null Count   Dtype  \n",
      "---  ------   --------------   -----  \n",
      " 0   id       100000 non-null  object \n",
      " 1   f0       100000 non-null  float64\n",
      " 2   f1       100000 non-null  float64\n",
      " 3   f2       100000 non-null  float64\n",
      " 4   product  100000 non-null  float64\n",
      "dtypes: float64(4), object(1)\n",
      "memory usage: 3.8+ MB\n",
      "None\n"
     ]
    }
   ],
   "source": [
    "geo_df_1 = pd.read_csv('/datasets/geo_data_0.csv')\n",
    "geo_df_2 = pd.read_csv('/datasets/geo_data_1.csv')\n",
    "geo_df_3 = pd.read_csv('/datasets/geo_data_2.csv')\n",
    "\n",
    "print('\\nDataset Región 1')\n",
    "display(geo_df_1.sample(5))\n",
    "print(geo_df_1.info())\n",
    "print('\\nDataset Región 2')\n",
    "display(geo_df_2.sample(5))\n",
    "print(geo_df_2.info())\n",
    "print('\\nDataset Región 3')\n",
    "display(geo_df_3.sample(5))\n",
    "print(geo_df_3.info())\n",
    "\n"
   ]
  },
  {
   "cell_type": "code",
   "execution_count": 3,
   "metadata": {},
   "outputs": [
    {
     "name": "stdout",
     "output_type": "stream",
     "text": [
      "Duplicados en el dataset de la región uno: 0\n",
      "Duplicados en el dataset de la región dos: 0\n",
      "Duplicados en el dataset de la región tres: 0\n"
     ]
    }
   ],
   "source": [
    "print('Duplicados en el dataset de la región uno:', geo_df_1.duplicated().sum())\n",
    "print('Duplicados en el dataset de la región dos:', geo_df_2.duplicated().sum())\n",
    "print('Duplicados en el dataset de la región tres:', geo_df_3.duplicated().sum())"
   ]
  },
  {
   "cell_type": "markdown",
   "metadata": {},
   "source": [
    "* Se observa que los datos estan en buena condición, sin valores nulos o valores duplicados. "
   ]
  },
  {
   "cell_type": "markdown",
   "metadata": {},
   "source": [
    "## Modelos de predicción para las diferentes regiones"
   ]
  },
  {
   "cell_type": "markdown",
   "metadata": {},
   "source": [
    "### Preprocesamiento de datos para el modelo de predicción de la región 1"
   ]
  },
  {
   "cell_type": "code",
   "execution_count": 4,
   "metadata": {},
   "outputs": [
    {
     "data": {
      "text/plain": [
       "((75000, 3), (25000, 3), (75000,), (25000,))"
      ]
     },
     "execution_count": 4,
     "metadata": {},
     "output_type": "execute_result"
    }
   ],
   "source": [
    "# División de datos entre target y features\n",
    "target = geo_df_1['product']\n",
    "features = geo_df_1.drop(['product', 'id'], axis=1)\n",
    "\n",
    "# División de dataset entre entrenamiento y validación\n",
    "features_train, features_valid, target_train, target_valid = train_test_split(\n",
    "    features, target, test_size=0.25, random_state=12345)\n",
    "\n",
    "# Standarización de datos\n",
    "scaler = StandardScaler()\n",
    "features_train = scaler.fit_transform(features_train)\n",
    "features_valid = scaler.transform(features_valid)\n",
    "\n",
    "features_train.shape, features_valid.shape, target_train.shape, target_valid.shape"
   ]
  },
  {
   "cell_type": "markdown",
   "metadata": {},
   "source": [
    "### Entrenamiento y resultados del modelo"
   ]
  },
  {
   "cell_type": "code",
   "execution_count": 5,
   "metadata": {},
   "outputs": [
    {
     "name": "stdout",
     "output_type": "stream",
     "text": [
      "\n",
      "RECM del modelo de regresión lineal en el conjunto de validación: 37.5794\n",
      "R2 del modelo de regresión lineal en el conjunto de validación: 0.2799\n",
      "\n",
      "Volumen medio previsto (miles de barriles): 92.5926\n"
     ]
    }
   ],
   "source": [
    "model = LinearRegression()\n",
    "model.fit(features_train, target_train) \n",
    "predictions_valid = model.predict(features_valid)\n",
    "\n",
    "result = mean_squared_error(target_valid, predictions_valid)**0.5\n",
    "print(f'\\nRECM del modelo de regresión lineal en el conjunto de validación: {result:.4f}')\n",
    "\n",
    "result_r2 = r2_score(target_valid, predictions_valid)\n",
    "print(f'R2 del modelo de regresión lineal en el conjunto de validación: {result_r2:.4f}')\n",
    "\n",
    "predictions_valid_mean_1 = predictions_valid.mean()\n",
    "print(f'\\nVolumen medio previsto (miles de barriles): {predictions_valid_mean_1:.4f}')"
   ]
  },
  {
   "cell_type": "markdown",
   "metadata": {},
   "source": [
    "### Preprocesamiento de datos para el modelo de predicción de la región 2"
   ]
  },
  {
   "cell_type": "code",
   "execution_count": 6,
   "metadata": {},
   "outputs": [
    {
     "data": {
      "text/plain": [
       "((75000, 3), (25000, 3), (75000,), (25000,))"
      ]
     },
     "execution_count": 6,
     "metadata": {},
     "output_type": "execute_result"
    }
   ],
   "source": [
    "target2 = geo_df_2['product']\n",
    "features2 = geo_df_2.drop(['product', 'id'], axis=1)\n",
    "\n",
    "features_train2, features_valid2, target_train2, target_valid2 = train_test_split(\n",
    "    features2, target2, test_size=0.25, random_state=12345)\n",
    "\n",
    "scaler = StandardScaler()\n",
    "features_train2 = scaler.fit_transform(features_train2)\n",
    "features_valid2 = scaler.transform(features_valid2)\n",
    "\n",
    "features_train2.shape, features_valid2.shape, target_train2.shape, target_valid2.shape"
   ]
  },
  {
   "cell_type": "markdown",
   "metadata": {},
   "source": [
    "### Entrenamiento y resultados del modelo"
   ]
  },
  {
   "cell_type": "code",
   "execution_count": 7,
   "metadata": {},
   "outputs": [
    {
     "name": "stdout",
     "output_type": "stream",
     "text": [
      "\n",
      "RECM del modelo de regresión lineal en el conjunto de validación: 0.8931\n",
      "R2 del modelo de regresión lineal en el conjunto de validación: 0.9996\n",
      "\n",
      "Volumen medio previsto (miles de barriles): 68.7285\n"
     ]
    }
   ],
   "source": [
    "model2 = LinearRegression()\n",
    "model2.fit(features_train2, target_train2) \n",
    "predictions_valid2 = model2.predict(features_valid2)\n",
    "\n",
    "result2 = mean_squared_error(target_valid2, predictions_valid2)**0.5\n",
    "print(f'\\nRECM del modelo de regresión lineal en el conjunto de validación: {result2:.4f}')\n",
    "\n",
    "result_r2_2 = r2_score(target_valid2, predictions_valid2)\n",
    "print(f'R2 del modelo de regresión lineal en el conjunto de validación: {result_r2_2:.4f}')\n",
    "\n",
    "predictions_valid_mean_2 = predictions_valid2.mean()\n",
    "print(f'\\nVolumen medio previsto (miles de barriles): {predictions_valid_mean_2:.4f}')"
   ]
  },
  {
   "cell_type": "markdown",
   "metadata": {},
   "source": [
    "### Preprocesamiento de datos para el modelo de predicción de la región 3"
   ]
  },
  {
   "cell_type": "code",
   "execution_count": 8,
   "metadata": {},
   "outputs": [
    {
     "data": {
      "text/plain": [
       "((75000, 3), (25000, 3), (75000,), (25000,))"
      ]
     },
     "execution_count": 8,
     "metadata": {},
     "output_type": "execute_result"
    }
   ],
   "source": [
    "target3 = geo_df_3['product']\n",
    "features3 = geo_df_3.drop(['product', 'id'], axis=1)\n",
    "\n",
    "features_train3, features_valid3, target_train3, target_valid3 = train_test_split(\n",
    "    features3, target3, test_size=0.25, random_state=12345)\n",
    "\n",
    "scaler = StandardScaler()\n",
    "features_train3 = scaler.fit_transform(features_train3)\n",
    "features_valid3 = scaler.transform(features_valid3)\n",
    "\n",
    "features_train3.shape, features_valid3.shape, target_train3.shape, target_valid3.shape"
   ]
  },
  {
   "cell_type": "markdown",
   "metadata": {},
   "source": [
    "### Entrenamiento y resultados del modelo"
   ]
  },
  {
   "cell_type": "code",
   "execution_count": 9,
   "metadata": {},
   "outputs": [
    {
     "name": "stdout",
     "output_type": "stream",
     "text": [
      "\n",
      "RECM del modelo de regresión lineal en el conjunto de validación: 40.0297\n",
      "R2 del modelo de regresión lineal en el conjunto de validación: 0.2052\n",
      "\n",
      "Volumen medio previsto (miles de barriles): 94.9650\n"
     ]
    }
   ],
   "source": [
    "model3 = LinearRegression()\n",
    "model3.fit(features_train3, target_train3) \n",
    "predictions_valid3 = model3.predict(features_valid3)\n",
    "\n",
    "result3 = mean_squared_error(target_valid3, predictions_valid3)**0.5\n",
    "print(f'\\nRECM del modelo de regresión lineal en el conjunto de validación: {result3:.4f}')\n",
    "\n",
    "result_r2_3 = r2_score(target_valid3, predictions_valid3)\n",
    "print(f'R2 del modelo de regresión lineal en el conjunto de validación: {result_r2_3:.4f}')\n",
    "\n",
    "predictions_valid_mean_3 = predictions_valid3.mean()\n",
    "print(f'\\nVolumen medio previsto (miles de barriles): {predictions_valid_mean_3:.4f}')\n"
   ]
  },
  {
   "cell_type": "markdown",
   "metadata": {},
   "source": [
    "* Se conluye que el modelo entrenado con la segunda región tiene un RECM con una diferencia mucho menor a las otras dos regiones y además con un R2 casi perfecto, significando que se tiene que priorizar este modelo para futuras predicciones. "
   ]
  },
  {
   "cell_type": "markdown",
   "metadata": {},
   "source": [
    "## Cálculo de ganancias"
   ]
  },
  {
   "cell_type": "code",
   "execution_count": 10,
   "metadata": {},
   "outputs": [
    {
     "name": "stdout",
     "output_type": "stream",
     "text": [
      "La región 1 no tiene una media de reserva mayor a la minima necesitada (111.11), ya que tiene una media de 92.5926.\n",
      "La región 2 no tiene una media de reserva mayor a la minima necesitada (111.11), ya que tiene una media de 68.7285.\n",
      "La región 3 no tiene una media de reserva mayor a la minima necesitada (111.11), ya que tiene una media de 94.9650.\n"
     ]
    }
   ],
   "source": [
    "total_investment = 100000000\n",
    "wells = 200\n",
    "min_production = 500000\n",
    "min_barrels = 111.11\n",
    "price_per_barrel = 4500\n",
    "\n",
    "def difference_per_min_region(region, mean_barrels, min_barrels, median):\n",
    "    if mean_barrels > min_barrels:\n",
    "        print(f'La región {region} tiene una media de reserva mayor a la minima necesitada ({min_barrels}), ya que tiene una media de {median:.4f}.')\n",
    "    else:\n",
    "        print(f'La región {region} no tiene una media de reserva mayor a la minima necesitada ({min_barrels}), ya que tiene una media de {median:.4f}.')\n",
    "\n",
    "difference_per_min_region(1, predictions_valid_mean_1, min_barrels, predictions_valid_mean_1)\n",
    "difference_per_min_region(2, predictions_valid_mean_2, min_barrels, predictions_valid_mean_2)\n",
    "difference_per_min_region(3, predictions_valid_mean_3, min_barrels, predictions_valid_mean_3)"
   ]
  },
  {
   "cell_type": "markdown",
   "metadata": {},
   "source": [
    "* Concluimos que las 3 regiones no tienen reservas mayores a la minima necesitada, conociendo esto, tenemos que elegir la región que nos garantice un menor porcentaje de perdida.\n"
   ]
  },
  {
   "cell_type": "code",
   "execution_count": 11,
   "metadata": {},
   "outputs": [
    {
     "name": "stdout",
     "output_type": "stream",
     "text": [
      "\n",
      "La ganancia potencial de la región 1 es de $33,208,260.43\n",
      "\n",
      "La ganancia potencial de la región 2 es de $24,150,866.97\n",
      "\n",
      "La ganancia potencial de la región 3 es de $27,103,499.64\n"
     ]
    }
   ],
   "source": [
    "cost_one_well = 500000\n",
    "price_per_barrel = 4500\n",
    "\n",
    "def revenue(predictions, count, target):\n",
    " \n",
    "    predictions_series = pd.Series(predictions)\n",
    "    target_series = pd.Series(target)\n",
    "\n",
    "    predictions_sorted = predictions_series.sort_values(ascending=False)\n",
    "\n",
    "    selected = target.reset_index(drop=True).iloc[predictions_sorted.index][:count]\n",
    "    total_revenue_wells = selected.sum() * price_per_barrel \n",
    "\n",
    "    total_development_cost = count * cost_one_well\n",
    "    profit = total_revenue_wells - total_development_cost\n",
    "\n",
    "    return profit\n",
    "\n",
    "\n",
    "\n",
    "revenue1 = revenue(predictions_valid, 200, target_valid)\n",
    "print(f'\\nLa ganancia potencial de la región 1 es de ${revenue1:,.2f}')\n",
    "\n",
    "revenue2 = revenue(predictions_valid2, 200, target_valid2)\n",
    "print(f'\\nLa ganancia potencial de la región 2 es de ${revenue2:,.2f}')\n",
    "\n",
    "revenue3 = revenue(predictions_valid3, 200, target_valid3)\n",
    "print(f'\\nLa ganancia potencial de la región 3 es de ${revenue3:,.2f}')\n",
    "\n"
   ]
  },
  {
   "cell_type": "markdown",
   "metadata": {},
   "source": [
    "* Las 3 regiones tienen una ganacia potencial que nos beneficiaria de una gran forma, pero teniendo en cuenta la inversión de 100 millones de USD, la región que nos genera una mayor ganancia es la región 1 con una ganancia potencial de $139,860,488,774.65"
   ]
  },
  {
   "cell_type": "markdown",
   "metadata": {},
   "source": [
    "## Riesgos y ganancias"
   ]
  },
  {
   "cell_type": "code",
   "execution_count": 27,
   "metadata": {},
   "outputs": [
    {
     "name": "stdout",
     "output_type": "stream",
     "text": [
      "\n",
      "Resultados para Región 1:\n",
      "  Ganancia Promedio: $4123161.19\n",
      "  Intervalo de Confianza del 95%: ($-912,510.94, $9,353,942.02)\n",
      "  Riesgo de Pérdidas: 4.60%\n",
      "\n",
      "Resultados para Región 2:\n",
      "  Ganancia Promedio: $4565598.09\n",
      "  Intervalo de Confianza del 95%: ($511,182.83, $8,202,472.10)\n",
      "  Riesgo de Pérdidas: 1.50%\n",
      "\n",
      "Resultados para Región 3:\n",
      "  Ganancia Promedio: $3890547.71\n",
      "  Intervalo de Confianza del 95%: ($-1,309,501.58, $9,168,700.71)\n",
      "  Riesgo de Pérdidas: 7.70%\n"
     ]
    }
   ],
   "source": [
    "def bootstrapping(target_valid, predictions, n_iterations=1000, sample_size=500, best_wells=200):\n",
    "    revenues = []\n",
    "\n",
    "    for i in range(n_iterations):\n",
    "        \n",
    "        sampled_indices = pd.Series(range(len(predictions))).sample(n=sample_size, replace=True)\n",
    "        sample_predictions = pd.Series(predictions).iloc[sampled_indices].reset_index(drop=True)\n",
    "        sample_target = pd.Series(target_valid).iloc[sampled_indices].reset_index(drop=True)\n",
    "\n",
    "        best_indices = sample_predictions.nlargest(best_wells).index\n",
    "        selected_targets = sample_target.iloc[best_indices]\n",
    "\n",
    "\n",
    "        revenue = selected_targets.sum() * price_per_barrel - best_wells * cost_one_well\n",
    "        revenues.append(revenue)\n",
    "\n",
    "    revenues_df = pd.Series(revenues)\n",
    "    mean_profit = revenues_df.mean()\n",
    "    \n",
    "    lower_quantile = round(revenues_df.quantile(0.025), 4)\n",
    "    upper_quantile = round(revenues_df.quantile(0.975), 4)\n",
    "\n",
    "    confidence_interval = [lower_quantile, upper_quantile]\n",
    "    loss_risk = (revenues_df < 0).mean() * 100  # Porcentaje de submuestras con pérdidas\n",
    "\n",
    "    return revenues_df, mean_profit, confidence_interval, loss_risk\n",
    "\n",
    "\n",
    "# Región 1\n",
    "revenues_1, mean_profit_1, confidence_interval_1, loss_risk_1 = bootstrapping(target_valid, predictions_valid)\n",
    "print(\"\\nResultados para Región 1:\")\n",
    "print(f\"  Ganancia Promedio: ${mean_profit_1:.2f}\")\n",
    "print(f\"  Intervalo de Confianza del 95%: (${confidence_interval_1[0]:,.2f}, ${confidence_interval_1[1]:,.2f})\")\n",
    "print(f\"  Riesgo de Pérdidas: {loss_risk_1:.2f}%\")\n",
    "\n",
    "# Región 2\n",
    "revenues_2, mean_profit_2, confidence_interval_2, loss_risk_2 = bootstrapping(target_valid2, predictions_valid2)\n",
    "print(\"\\nResultados para Región 2:\")\n",
    "print(f\"  Ganancia Promedio: ${mean_profit_2:.2f}\")\n",
    "print(f\"  Intervalo de Confianza del 95%: (${confidence_interval_2[0]:,.2f}, ${confidence_interval_2[1]:,.2f})\")\n",
    "print(f\"  Riesgo de Pérdidas: {loss_risk_2:.2f}%\")\n",
    "\n",
    "# Región 3\n",
    "revenues_3, mean_profit_3, confidence_interval_3, loss_risk_3 = bootstrapping(target_valid3, predictions_valid3)\n",
    "print(\"\\nResultados para Región 3:\")\n",
    "print(f\"  Ganancia Promedio: ${mean_profit_3:.2f}\")\n",
    "print(f\"  Intervalo de Confianza del 95%: (${confidence_interval_3[0]:,.2f}, ${confidence_interval_3[1]:,.2f})\")\n",
    "print(f\"  Riesgo de Pérdidas: {loss_risk_3:.2f}%\")"
   ]
  },
  {
   "cell_type": "code",
   "execution_count": 32,
   "metadata": {},
   "outputs": [
    {
     "data": {
      "image/png": "[encoded data removed]",
      "text/plain": [
       "<Figure size 2800x800 with 3 Axes>"
      ]
     },
     "metadata": {},
     "output_type": "display_data"
    }
   ],
   "source": [
    "fig, axis = plt.subplots(ncols=3, nrows=1, figsize=(28, 8))\n",
    "ax = axis.ravel()\n",
    "\n",
    "revenues_1.hist(ax=ax[0], bins=15, color = 'green', edgecolor = 'black', linewidth = 0.5)\n",
    "revenues_2.hist(ax=ax[1], bins=15, color = 'green', edgecolor = 'black', linewidth = 0.5)\n",
    "revenues_3.hist(ax=ax[2], bins=15, color = 'green', edgecolor = 'black', linewidth = 0.5)\n",
    "\n",
    "\n",
    "ax[0].set_title('Región 1')\n",
    "ax[1].set_title('Región 2')\n",
    "ax[2].set_title('Región 3')\n",
    "# Colocamos una línea vertical en la posición 0\n",
    "ax[0].axvline(x=0, color='r', ls='--')\n",
    "ax[1].axvline(x=0, color='r', ls='--')\n",
    "ax[2].axvline(x=0, color='r', ls='--')\n",
    "\n",
    "plt.suptitle('Distribución de ganancias por región', size='xx-large')\n",
    "plt.show()"
   ]
  },
  {
   "cell_type": "markdown",
   "metadata": {},
   "source": [
    "El beneficio promedio mayor se encuentra en la región 2 con 4,5 millones de dolares en ganacias, seguido de la región 1 con una ganacia de 4,1 millones de dolares y por último la región 3 con una ganancia de 3,8. Además la región 2 tiene el porcentaje de riesgo de pérdida más pequeño de las diferentes regiones, con una porcentaje de 1,5%.\n",
    "\n",
    "En las gráficas se puede observar como las regiones 1 y 3, tienden a tener mayor numero de submuestras con ganancias negativas, quiere decir que hay submuestras menores a cero, confirmando con nuestros resultados que tienen un mayor porcentaje de perdida.\n"
   ]
  },
  {
   "cell_type": "markdown",
   "metadata": {},
   "source": [
    "# Conclusiones\n",
    "\n",
    "**Preprocesamiento de datos**\n",
    "\n",
    "1. Se observó que los datos de los tres datasets tenían en buena condición los datos, sin duplicaciones o valores nulos.\n",
    "\n",
    "**Modelo de Regresión Lineal**\n",
    "\n",
    "1. Para la construcción del modelo se tuvo solamente en cuenta las columnas de `f0`, `f1`, `f2` y `product`, ya que eran las únicas columnas que nos proporcionaban información relevante para el modelo.\n",
    "2. Se dividieron los tres datasets en conjuntos de entrenamiento y validación en proporción 75:25, fijando como características las variables `f0`, `f1` y `f2`, y el objetivo la variable `product`.\n",
    "3. Se estandarizaron las características para un mejor funcionamiento del modelo.\n",
    "4. Se procedió a construir un modelo de regresión lineal para cada región, en donde se utilizó una función que nos permitió obtener el RECM, R2 y volumen promedio previsto de las tres regiones.\n",
    "5. Se obtiene el mejor modelo de las tres regiones el cual fue para la REGIÓN 2, que presentó el error más bajo y el coeficiente de determinación más alto. Sin embargo, las regiones 1 y 3 presentaron el volumen promedio previsto más alto.\n",
    "\n",
    "**Margen de beneficio y riesgo por región**\n",
    "\n",
    "1. Tomando en cuenta las consideraciones que realiza OilyGiant para calcular el beneficio se pudo establecer que el volumen de producto necesario en cada pozo para no generar pérdidas es de 111.11 mil barriles y el costo de desarrollo de un pozo es de 500.000 dólares. Al comparar este valor con el volumen promedio de cada región con este volumen, se pudo establecer que ninguna región alcanza este volumen de producto, siendo el volumen promedio más alto de 95 mil barriles, el registrado en la tercera región.\n",
    "2. Al desarrollar una función que calculó las ganancias por región en los 200 mejores pozos con el volumen previsto más alto, fue la región 1, la cual registró las ganancias más altas que ascienderon hasta los 33 millones de dólares. En el caso de las regiones 2 y 3 se obtuvieron ingresos inferiores a los 30 millones para ambas regiones.\n",
    "3. Al calcular las ganancias a través de la técnica de bootstrapping para 1000 submuestras del objetivo de validación, con un tamaño de 500 y considerando solo los 200 mejores pozos de cada submuestra, se pudo establecer que la **REGIÓN 2** es la mejor región para el desarrollo de pozos ya que presentó el beneficio promedio más alto de 4.5 millones y el riesgo de pérdida más bajo de 1.5%. Si bien es una de las regiones con menor volumen de producto, es la que generará más ganancias y la que presentó el mejor modelo predictivo, además esta región presentó los mejores resultados al seguir la metodología de exploración y estudio de 500 puntos que sigue la compañía petrolera OilyGiant.\n"
   ]
  }
 ],
 "metadata": {
  "kernelspec": {
   "display_name": "venv (3.12.0)",
   "language": "python",
   "name": "python3"
  },
  "language_info": {
   "codemirror_mode": {
    "name": "ipython",
    "version": 3
   },
   "file_extension": ".py",
   "mimetype": "text/x-python",
   "name": "python",
   "nbconvert_exporter": "python",
   "pygments_lexer": "ipython3",
   "version": "3.12.0"
  }
 },
 "nbformat": 4,
 "nbformat_minor": 4
}
